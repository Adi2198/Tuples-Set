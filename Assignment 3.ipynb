{
 "cells": [
  {
   "cell_type": "markdown",
   "id": "26afb2da",
   "metadata": {},
   "source": [
    "# Assignment 3"
   ]
  },
  {
   "cell_type": "markdown",
   "id": "3f7fefcd",
   "metadata": {},
   "source": [
    "#### 1.1 Write a Python Program to implement your own myreduce() function which works exactly  like Python's built-in function reduce() "
   ]
  },
  {
   "cell_type": "markdown",
   "id": "ca2a9d91",
   "metadata": {},
   "source": [
    "##### By using For loop"
   ]
  },
  {
   "cell_type": "code",
   "execution_count": 6,
   "id": "560ba614",
   "metadata": {},
   "outputs": [],
   "source": [
    "def myreduce(function,value,default=None):\n",
    "    for i in value:\n",
    "        if default == None:\n",
    "            current_value = i\n",
    "        else:\n",
    "            current_value = default\n",
    "        for next_value in range(i+1,len(value)+1):\n",
    "            current_value = function(current_value,next_value)\n",
    "        return current_value\n"
   ]
  },
  {
   "cell_type": "code",
   "execution_count": 7,
   "id": "3feb7057",
   "metadata": {},
   "outputs": [
    {
     "name": "stdout",
     "output_type": "stream",
     "text": [
      "myreduce Function1:  21\n"
     ]
    }
   ],
   "source": [
    "def add(a,b):\n",
    "    return a+b\n",
    "List = [1,2,3,4,5,6]\n",
    "print(\"myreduce Function 1: \",myreduce(add,List))"
   ]
  },
  {
   "cell_type": "markdown",
   "id": "d8b8d1f4",
   "metadata": {},
   "source": [
    "##### By Using iter() and next()"
   ]
  },
  {
   "cell_type": "code",
   "execution_count": 8,
   "id": "ccd0a883",
   "metadata": {},
   "outputs": [],
   "source": [
    "def myreduce(function,value,default =None):\n",
    "    itr_value = iter(value)\n",
    "    if default == None:\n",
    "        current_value =next(itr_value)\n",
    "    else:\n",
    "        current_value = default\n",
    "    for next_value in itr_value:\n",
    "        current_value=function(current_value,next_value)\n",
    "    return current_value"
   ]
  },
  {
   "cell_type": "code",
   "execution_count": 9,
   "id": "fc01a463",
   "metadata": {},
   "outputs": [
    {
     "name": "stdout",
     "output_type": "stream",
     "text": [
      "myreduce Function 2:  21\n"
     ]
    }
   ],
   "source": [
    "def add(a,b):\n",
    "    return a+b\n",
    "List = [1,2,3,4,5,6]\n",
    "print(\"myreduce Function 2: \",myreduce(add,List))"
   ]
  },
  {
   "cell_type": "markdown",
   "id": "3b2b5cd3",
   "metadata": {},
   "source": [
    "##### Built-in reduce() function"
   ]
  },
  {
   "cell_type": "code",
   "execution_count": 10,
   "id": "e3d90cb2",
   "metadata": {},
   "outputs": [
    {
     "name": "stdout",
     "output_type": "stream",
     "text": [
      "Built in reduce Function:  21\n"
     ]
    }
   ],
   "source": [
    "from functools import reduce\n",
    "print(\"Built in reduce Function: \",reduce(add,List))"
   ]
  },
  {
   "cell_type": "markdown",
   "id": "44a63b99",
   "metadata": {},
   "source": [
    "#### 1.2 Write a Python program to implement your own myfilter() function which works exactly  like Python's built-in function filter()"
   ]
  },
  {
   "cell_type": "code",
   "execution_count": 6,
   "id": "f34e527a",
   "metadata": {},
   "outputs": [],
   "source": [
    "def myfilter(function,iterable):\n",
    "    if function is None:\n",
    "        function = bool\n",
    "    for current_value in iterable:\n",
    "        if function(current_value):\n",
    "            yield current_value\n"
   ]
  },
  {
   "cell_type": "markdown",
   "id": "9c969702",
   "metadata": {},
   "source": [
    "##### myfilter() function output:"
   ]
  },
  {
   "cell_type": "code",
   "execution_count": 7,
   "id": "d526a974",
   "metadata": {},
   "outputs": [
    {
     "name": "stdout",
     "output_type": "stream",
     "text": [
      "Myfilter Function:  [0, 2, 4, 6, 8, 10, 12, 14, 16, 18, 20, 22, 24, 26, 28, 30, 32, 34, 36, 38, 40, 42, 44, 46, 48]\n"
     ]
    }
   ],
   "source": [
    "def even(value):\n",
    "    if value % 2 == 0:\n",
    "        return True\n",
    "    else:\n",
    "        return False\n",
    "List = [x for x in range(50)]\n",
    "print(\"Myfilter Function: \",list(myfilter(even,List)))"
   ]
  },
  {
   "cell_type": "markdown",
   "id": "59725fbd",
   "metadata": {},
   "source": [
    "##### Built-in filter() function output"
   ]
  },
  {
   "cell_type": "code",
   "execution_count": 8,
   "id": "ccdf28d6",
   "metadata": {},
   "outputs": [
    {
     "name": "stdout",
     "output_type": "stream",
     "text": [
      "Built-in filter Function:  [0, 2, 4, 6, 8, 10, 12, 14, 16, 18, 20, 22, 24, 26, 28, 30, 32, 34, 36, 38, 40, 42, 44, 46, 48]\n"
     ]
    }
   ],
   "source": [
    "print(\"Built-in filter Function: \",list(filter(even,List)))"
   ]
  },
  {
   "cell_type": "markdown",
   "id": "e6bcd5f2",
   "metadata": {},
   "source": [
    "#### 2. Implement List comprehensions to produce the following lists.  \n",
    "#### Write List comprehensions to produce the following Lists \n",
    "  \n"
   ]
  },
  {
   "cell_type": "markdown",
   "id": "d4f102ce",
   "metadata": {},
   "source": [
    "#### 2.1 ['x', 'xx', 'xxx', 'xxxx', 'y', 'yy', 'yyy', 'yyyy', 'z', 'zz', 'zzz', 'zzzz']"
   ]
  },
  {
   "cell_type": "code",
   "execution_count": 79,
   "id": "d520c4b1",
   "metadata": {},
   "outputs": [
    {
     "data": {
      "text/plain": [
       "['x', 'xx', 'xxx', 'xxxx', 'y', 'yy', 'yyy', 'yyyy', 'z', 'zz', 'zzz', 'zzzz']"
      ]
     },
     "execution_count": 79,
     "metadata": {},
     "output_type": "execute_result"
    }
   ],
   "source": [
    "newList = [i*k for i in [\"x\",\"y\",\"z\"] for k in range(1,5)]\n",
    "newList"
   ]
  },
  {
   "cell_type": "markdown",
   "id": "12acd9f8",
   "metadata": {},
   "source": [
    "#### 2.2 ['x', 'y', 'z', 'xx', 'yy', 'zz', 'xxx', 'yyy', 'zzz', 'xxxx', 'yyyy', 'zzzz']  \n"
   ]
  },
  {
   "cell_type": "code",
   "execution_count": 60,
   "id": "f8870dee",
   "metadata": {},
   "outputs": [
    {
     "data": {
      "text/plain": [
       "['x', 'y', 'z', 'xx', 'yy', 'zz', 'xxx', 'yyy', 'zzz', 'xxxx', 'yyyy', 'zzzz']"
      ]
     },
     "execution_count": 60,
     "metadata": {},
     "output_type": "execute_result"
    }
   ],
   "source": [
    "newList = [i*k for k in range(1,5) for i in [\"x\",\"y\",\"z\"]]\n",
    "newList"
   ]
  },
  {
   "cell_type": "markdown",
   "id": "9f2a1e14",
   "metadata": {},
   "source": [
    "#### 2.3 [[2], [3], [4], [3], [4], [5], [4], [5], [6]] "
   ]
  },
  {
   "cell_type": "code",
   "execution_count": 67,
   "id": "e87bf920",
   "metadata": {},
   "outputs": [
    {
     "data": {
      "text/plain": [
       "[[2], [3], [4], [3], [4], [5], [4], [5], [6]]"
      ]
     },
     "execution_count": 67,
     "metadata": {},
     "output_type": "execute_result"
    }
   ],
   "source": [
    "newList = [[j] for i in range(1,4) for j in range(i+1,i+4)]\n",
    "newList"
   ]
  },
  {
   "cell_type": "markdown",
   "id": "546effbe",
   "metadata": {},
   "source": [
    "#### 2.4 [[2, 3, 4, 5], [3, 4, 5, 6], [4, 5, 6, 7], [5, 6, 7, 8]] "
   ]
  },
  {
   "cell_type": "code",
   "execution_count": 78,
   "id": "26d85edc",
   "metadata": {},
   "outputs": [
    {
     "data": {
      "text/plain": [
       "[[2, 3, 4, 5], [3, 4, 5, 6], [4, 5, 6, 7], [5, 6, 7, 8]]"
      ]
     },
     "execution_count": 78,
     "metadata": {},
     "output_type": "execute_result"
    }
   ],
   "source": [
    "newList = [[j for j in range(i,i+4)] for i in range(2,6)]\n",
    "newList"
   ]
  },
  {
   "cell_type": "markdown",
   "id": "e2c36ae4",
   "metadata": {},
   "source": [
    "#### 2.5 ['A', 'C', 'A', 'D', 'G', 'I', ’L’, ‘ D’] "
   ]
  },
  {
   "cell_type": "code",
   "execution_count": 10,
   "id": "ea898d5b",
   "metadata": {},
   "outputs": [
    {
     "data": {
      "text/plain": [
       "['A', 'C', 'A', 'D', 'G', 'I', 'L', 'D']"
      ]
     },
     "execution_count": 10,
     "metadata": {},
     "output_type": "execute_result"
    }
   ],
   "source": [
    "alphabet = \"ACADGILD\"\n",
    "newList = [x for x in alphabet]\n",
    "newList"
   ]
  },
  {
   "cell_type": "code",
   "execution_count": null,
   "id": "b78776a4",
   "metadata": {},
   "outputs": [],
   "source": []
  }
 ],
 "metadata": {
  "kernelspec": {
   "display_name": "Python 3",
   "language": "python",
   "name": "python3"
  },
  "language_info": {
   "codemirror_mode": {
    "name": "ipython",
    "version": 3
   },
   "file_extension": ".py",
   "mimetype": "text/x-python",
   "name": "python",
   "nbconvert_exporter": "python",
   "pygments_lexer": "ipython3",
   "version": "3.8.8"
  }
 },
 "nbformat": 4,
 "nbformat_minor": 5
}
